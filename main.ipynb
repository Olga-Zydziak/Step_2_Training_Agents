{
 "cells": [
  {
   "cell_type": "code",
   "execution_count": 16,
   "id": "a3edbd47-2b74-4188-b083-4bccae279df4",
   "metadata": {
    "tags": []
   },
   "outputs": [],
   "source": [
    "from config import PROJECT_ID, LOCATION, MEMORY_ENGINE_DISPLAY_NAME, INPUT_FILE_PATH,MAIN_AGENT,CRITIC_MODEL,CODE_MODEL, API_TYPE_GEMINI,API_TYPE_SONNET,QUICK_SMART_MODEL,ANTHROPIC_API_KEY,basic_config_agent\n",
    "from dynamic_graph.outputsModels import *\n",
    "from dynamic_graph.main_graph_functions import run_collaborative_planning\n",
    "from prompts import PromptEngine"
   ]
  },
  {
   "cell_type": "code",
   "execution_count": 13,
   "id": "6982c7b4-a6dd-476f-b361-d36c50174185",
   "metadata": {
    "tags": []
   },
   "outputs": [],
   "source": [
    "# --- Konfiguracja czatu grupowego ---\n",
    "main_agent_configuration={\"cache_seed\": 42,\"seed\": 42,\"temperature\": 0.0,\n",
    "                        \"config_list\": basic_config_agent(agent_name=MAIN_AGENT, api_type=API_TYPE_GEMINI, location=LOCATION, project_id=PROJECT_ID)}\n",
    "critic_agent_configuration ={\"cache_seed\": 42,\"seed\": 42,\"temperature\": 0.0,\n",
    "                        \"config_list\": basic_config_agent(api_key=ANTHROPIC_API_KEY,agent_name=CRITIC_MODEL, api_type=API_TYPE_SONNET)}\n"
   ]
  },
  {
   "cell_type": "code",
   "execution_count": 14,
   "id": "a9d12db3-dfe5-4c56-9494-8721eccacda1",
   "metadata": {},
   "outputs": [
    {
     "name": "stdout",
     "output_type": "stream",
     "text": [
      "\n",
      "==================================================\n",
      "### ROZPOCZYNANIE FAZY PROJEKTOWEJ ###\n",
      "==================================================\n",
      "--- RUTER AGENTÓW: Uruchamiam uniwersalny wybór zespołu... ---\n"
     ]
    },
    {
     "ename": "NameError",
     "evalue": "name 'PromptEngine' is not defined",
     "output_type": "error",
     "traceback": [
      "\u001b[31m---------------------------------------------------------------------------\u001b[39m",
      "\u001b[31mNameError\u001b[39m                                 Traceback (most recent call last)",
      "\u001b[36mCell\u001b[39m\u001b[36m \u001b[39m\u001b[32mIn[14]\u001b[39m\u001b[32m, line 9\u001b[39m\n\u001b[32m      6\u001b[39m mission = \u001b[33m\"\u001b[39m\u001b[33mZbudować i zweryfikować podstawowy model przyczynowy na podstawie załadowanych danych.\u001b[39m\u001b[33m\"\u001b[39m\n\u001b[32m      8\u001b[39m \u001b[38;5;66;03m# Uruchom całą fazę planowania jedną komendą\u001b[39;00m\n\u001b[32m----> \u001b[39m\u001b[32m9\u001b[39m final_plan = \u001b[43mrun_collaborative_planning\u001b[49m\u001b[43m(\u001b[49m\u001b[43mmission\u001b[49m\u001b[43m,\u001b[49m\u001b[43m \u001b[49m\u001b[43mrouter_llm_config\u001b[49m\u001b[43m)\u001b[49m\n\u001b[32m     11\u001b[39m \u001b[38;5;28;01mif\u001b[39;00m final_plan:\n\u001b[32m     12\u001b[39m     \u001b[38;5;28mprint\u001b[39m(\u001b[33m\"\u001b[39m\u001b[38;5;130;01m\\n\u001b[39;00m\u001b[33m\"\u001b[39m + \u001b[33m\"\u001b[39m\u001b[33m=\u001b[39m\u001b[33m\"\u001b[39m*\u001b[32m50\u001b[39m)\n",
      "\u001b[36mFile \u001b[39m\u001b[32m~/olga_zydziak/version_beta/Step_2_Training_Agents/dynamic_graph/main_graph_functions.py:35\u001b[39m, in \u001b[36mrun_collaborative_planning\u001b[39m\u001b[34m(mission, router_llm_config)\u001b[39m\n\u001b[32m     30\u001b[39m \u001b[38;5;28mprint\u001b[39m(\u001b[33m\"\u001b[39m\u001b[33m=\u001b[39m\u001b[33m\"\u001b[39m*\u001b[32m50\u001b[39m)\n\u001b[32m     32\u001b[39m \u001b[38;5;66;03m# --- Krok 1: Dynamiczny Wybór Zespołu przez Rutera ---\u001b[39;00m\n\u001b[32m     33\u001b[39m \u001b[38;5;66;03m# Delegujemy zadanie wyboru zespołu do modułu Rutera.\u001b[39;00m\n\u001b[32m     34\u001b[39m \u001b[38;5;66;03m# Zakładamy, że `select_team` jest niezawodny i zwróci poprawny zespół.\u001b[39;00m\n\u001b[32m---> \u001b[39m\u001b[32m35\u001b[39m team = \u001b[43mselect_team\u001b[49m\u001b[43m(\u001b[49m\u001b[43mmission\u001b[49m\u001b[43m,\u001b[49m\u001b[43m \u001b[49m\u001b[43mAGENT_LIBRARY\u001b[49m\u001b[43m,\u001b[49m\u001b[43m \u001b[49m\u001b[43mrouter_llm_config\u001b[49m\u001b[43m)\u001b[49m\n\u001b[32m     36\u001b[39m planners = team[\u001b[33m\"\u001b[39m\u001b[33mplanners\u001b[39m\u001b[33m\"\u001b[39m]\n\u001b[32m     37\u001b[39m critic = team[\u001b[33m\"\u001b[39m\u001b[33mcritic\u001b[39m\u001b[33m\"\u001b[39m]\n",
      "\u001b[36mFile \u001b[39m\u001b[32m~/olga_zydziak/version_beta/Step_2_Training_Agents/dynamic_graph/router.py:53\u001b[39m, in \u001b[36mselect_team\u001b[39m\u001b[34m(user_query, agent_library, router_llm_config)\u001b[39m\n\u001b[32m     49\u001b[39m agent_descriptions = \u001b[33m\"\u001b[39m\u001b[38;5;130;01m\\n\u001b[39;00m\u001b[33m\"\u001b[39m.join(\n\u001b[32m     50\u001b[39m     [\u001b[33mf\u001b[39m\u001b[33m\"\u001b[39m\u001b[33m- \u001b[39m\u001b[38;5;132;01m{\u001b[39;00mname\u001b[38;5;132;01m}\u001b[39;00m\u001b[33m: \u001b[39m\u001b[38;5;132;01m{\u001b[39;00magent.system_message.split(\u001b[33m'\u001b[39m\u001b[33mSpecjalizacja:\u001b[39m\u001b[33m'\u001b[39m)[\u001b[32m1\u001b[39m].strip()\u001b[38;5;132;01m}\u001b[39;00m\u001b[33m\"\u001b[39m \u001b[38;5;28;01mfor\u001b[39;00m name, agent \u001b[38;5;129;01min\u001b[39;00m agent_library.items()]\n\u001b[32m     51\u001b[39m )\n\u001b[32m     52\u001b[39m \u001b[38;5;66;03m# Tworzymy konfigurację i budujemy prompt tak jak poprzednio\u001b[39;00m\n\u001b[32m---> \u001b[39m\u001b[32m53\u001b[39m router_config = \u001b[43mPromptEngine\u001b[49m.for_router(user_query, agent_descriptions)\n\u001b[32m     54\u001b[39m router_prompt = PromptEngine.build(router_config)\n\u001b[32m     56\u001b[39m \u001b[38;5;66;03m# NOWOŚĆ: Wywołujemy naszą uniwersalną funkcję\u001b[39;00m\n",
      "\u001b[31mNameError\u001b[39m: name 'PromptEngine' is not defined"
     ]
    }
   ],
   "source": [
    "if __name__ == '__main__':\n",
    "    # Konfiguracja dla lekkiego i szybkiego modelu Rutera\n",
    "    router_llm_config = basic_config_agent(agent_name=QUICK_SMART_MODEL, api_type=API_TYPE_GEMINI)\n",
    "    \n",
    "    # Wysokopoziomowa misja od użytkownika\n",
    "    mission = \"Zbudować i zweryfikować podstawowy model przyczynowy na podstawie załadowanych danych.\"\n",
    "    \n",
    "    # Uruchom całą fazę planowania jedną komendą\n",
    "    final_plan = run_collaborative_planning(mission, router_llm_config)\n",
    "    \n",
    "    if final_plan:\n",
    "        print(\"\\n\" + \"=\"*50)\n",
    "        print(\"### OTRZYMANY PLAN GOTOWY DO WYKONANIA ###\")\n",
    "        print(final_plan.model_dump_json(indent=2, by_alias=True))\n",
    "        \n",
    "        # W kolejnym kroku, ten obiekt `final_plan` zostałby przekazany\n",
    "        # do \"Fabryki Grafów\", aby zbudować i uruchomić przepływ.\n",
    "        # build_and_run_graph(final_plan, ...)\n",
    "    else:\n",
    "        print(\"\\nNie udało się wypracować planu. Sprawdź logi w `reports/`.\")\n",
    "\n",
    "    \n",
    "    "
   ]
  },
  {
   "cell_type": "code",
   "execution_count": null,
   "id": "c476ce17-60f1-4436-8754-d2c7210310c1",
   "metadata": {},
   "outputs": [],
   "source": []
  },
  {
   "cell_type": "code",
   "execution_count": null,
   "id": "00d9a675-049c-4ac3-b518-a077cc26664f",
   "metadata": {},
   "outputs": [],
   "source": []
  }
 ],
 "metadata": {
  "environment": {
   "kernel": "agents_with_memory_p11",
   "name": "workbench-notebooks.m129",
   "type": "gcloud",
   "uri": "us-docker.pkg.dev/deeplearning-platform-release/gcr.io/workbench-notebooks:m129"
  },
  "kernelspec": {
   "display_name": "Agents with memory (Python 3.11)",
   "language": "python",
   "name": "agents_with_memory_p11"
  },
  "language_info": {
   "codemirror_mode": {
    "name": "ipython",
    "version": 3
   },
   "file_extension": ".py",
   "mimetype": "text/x-python",
   "name": "python",
   "nbconvert_exporter": "python",
   "pygments_lexer": "ipython3",
   "version": "3.11.13"
  }
 },
 "nbformat": 4,
 "nbformat_minor": 5
}
