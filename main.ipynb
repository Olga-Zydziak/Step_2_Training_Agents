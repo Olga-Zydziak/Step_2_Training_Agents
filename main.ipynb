{
 "cells": [
  {
   "cell_type": "code",
   "execution_count": 1,
   "id": "a3edbd47-2b74-4188-b083-4bccae279df4",
   "metadata": {
    "tags": []
   },
   "outputs": [],
   "source": [
    "from config import PROJECT_ID, LOCATION, MEMORY_ENGINE_DISPLAY_NAME, INPUT_FILE_PATH,MAIN_AGENT,CRITIC_MODEL,CODE_MODEL, API_TYPE_GEMINI,API_TYPE_SONNET,QUICK_SMART_MODEL,ANTHROPIC_API_KEY,basic_config_agent\n",
    "from prompts import *"
   ]
  },
  {
   "cell_type": "code",
   "execution_count": 6,
   "id": "6982c7b4-a6dd-476f-b361-d36c50174185",
   "metadata": {
    "tags": []
   },
   "outputs": [],
   "source": [
    "# --- Konfiguracja czatu grupowego ---\n",
    "main_agent_configuration={\"cache_seed\": 42,\"seed\": 42,\"temperature\": 0.0,\n",
    "                        \"config_list\": basic_config_agent(agent_name=MAIN_AGENT, api_type=API_TYPE_GEMINI, location=LOCATION, project_id=PROJECT_ID)}\n",
    "critic_agent_configuration ={\"cache_seed\": 42,\"seed\": 42,\"temperature\": 0.0,\n",
    "                        \"config_list\": basic_config_agent(api_key=ANTHROPIC_API_KEY,agent_name=CRITIC_MODEL, api_type=API_TYPE_SONNET)}\n"
   ]
  },
  {
   "cell_type": "code",
   "execution_count": null,
   "id": "a9d12db3-dfe5-4c56-9494-8721eccacda1",
   "metadata": {},
   "outputs": [],
   "source": [
    "if __name__ == '__main__':\n",
    "    # --- Przykład dla Agenta-Rutera ---\n",
    "    mission_for_router = \"Stworzyć plan przepływu pracy dla budowy modelu przyczynowego.\"\n",
    "    available_agents = \"- Ekspert_Przyczynowosci: Specjalista od AI Kauzalnej.\\n- Analityk_Danych: Specjalista od jakości danych.\\n- Krytyk_Jakosci: Ocenia plany pod kątem prostoty.\"\n",
    "    \n",
    "    router_config = PromptEngine.for_router(mission_for_router, available_agents)\n",
    "    router_prompt = PromptEngine.build(router_config)\n",
    "    \n",
    "    print(\"=\"*80)\n",
    "    print(\"### PROMPT WYGENEROWANY DLA AGENTA-RUTERA ###\")\n",
    "    print(\"=\"*80)\n",
    "    print(router_prompt)\n",
    "    \n",
    "    # --- Przykład dla Agenta-Architekta (wewnątrz burzy mózgów) ---\n",
    "    mission_for_architect = \"Zaprojektuj graf, który wczytuje dane, buduje model i waliduje go.\"\n",
    "    available_nodes = \"Węzły Akcji: ['load_data', 'build_model', 'validate_model']\\nWęzły Logiczne: ['check_validation_status']\"\n",
    "\n",
    "    architect_config = PromptEngine.for_architect(mission_for_architect, available_nodes)\n",
    "    architect_prompt = PromptEngine.build(architect_config)\n",
    "    \n",
    "    print(\"\\n\" + \"=\"*80)\n",
    "    print(\"### PROMPT WYGENEROWANY DLA AGENTA-ARCHITEKTA ###\")\n",
    "    print(\"=\"*80)\n",
    "    print(architect_prompt)\n",
    "    \n",
    "    "
   ]
  },
  {
   "cell_type": "code",
   "execution_count": null,
   "id": "c476ce17-60f1-4436-8754-d2c7210310c1",
   "metadata": {},
   "outputs": [],
   "source": []
  },
  {
   "cell_type": "code",
   "execution_count": null,
   "id": "00d9a675-049c-4ac3-b518-a077cc26664f",
   "metadata": {},
   "outputs": [],
   "source": []
  }
 ],
 "metadata": {
  "environment": {
   "kernel": "agents_with_memory_p11",
   "name": "workbench-notebooks.m129",
   "type": "gcloud",
   "uri": "us-docker.pkg.dev/deeplearning-platform-release/gcr.io/workbench-notebooks:m129"
  },
  "kernelspec": {
   "display_name": "Agents with memory (Python 3.11)",
   "language": "python",
   "name": "agents_with_memory_p11"
  },
  "language_info": {
   "codemirror_mode": {
    "name": "ipython",
    "version": 3
   },
   "file_extension": ".py",
   "mimetype": "text/x-python",
   "name": "python",
   "nbconvert_exporter": "python",
   "pygments_lexer": "ipython3",
   "version": "3.11.13"
  }
 },
 "nbformat": 4,
 "nbformat_minor": 5
}
